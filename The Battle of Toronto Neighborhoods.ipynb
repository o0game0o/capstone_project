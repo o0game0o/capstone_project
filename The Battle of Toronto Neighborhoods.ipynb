{
 "cells": [
  {
   "cell_type": "markdown",
   "id": "6d7b8394-d8b0-4ba1-8b05-2a4b810ce4e5",
   "metadata": {},
   "source": [
    "# The Battle of Toronto Neighborhoods"
   ]
  },
  {
   "cell_type": "markdown",
   "id": "c9515d17-5fae-4924-913a-8d7516f013ef",
   "metadata": {},
   "source": [
    "## 1.Introduction"
   ]
  },
  {
   "cell_type": "markdown",
   "id": "7c7cc3db-5183-448a-84c0-e952257c75d6",
   "metadata": {},
   "source": [
    "<p><dd><FONT size = 4.5>This is a paragraph.Toronto, a population around over 6 million is the capital of the province of Ontrio.\n",
    "It is a major Canadian city along Lake Ontario's northwestern shore. It's a dynamic metropolis with a core of soaring skyscrapers, all dwarfed by the iconic, free-standing CN Tower. Toronto also has many green spaces, from the orderly oval of Queen's Park to 400 acre High Park and its trails, sports facilities and zoo"
   ]
  },
  {
   "cell_type": "markdown",
   "id": "68aafc5c-7270-41b9-b1d3-d43b7716f283",
   "metadata": {},
   "source": [
    "<p><dd><FONT size = 4.5> In this project will try to find optimal location for open Café or Coffee shop.this report will be targeted to the stakeholde interested in opening <b>Café or Coffee shop</b>. Therefore, the area was surveyed in <b>toronto</b> for \n",
    "find a suitable location. "
   ]
  },
  {
   "cell_type": "markdown",
   "id": "60ef02c6-64d4-47c8-a64c-e60dea132d3b",
   "metadata": {},
   "source": [
    "<p><dd><FONT size = 4.5>Since there ard lots of Café or Coffee shop in toronto, we will try to detect <b>locations that are note already crowded with Café or Coffee shop</b>. since Toronto also has many green spaces. We wold also prefer location as close to park as posible. And preferably, we would choose neighbourhood with Places of interest which will have large number of crowds (ie. shopping center)"
   ]
  },
  {
   "cell_type": "markdown",
   "id": "abf2f98a-dbc6-4257-95e1-4d71b76956d2",
   "metadata": {},
   "source": [
    "<p><dd><FONT size = 4.5><b>The problem statement for the project is \n",
    "<p>1. Where is the best location to open a Coffee shop or Café in Toronto"
   ]
  },
  {
   "cell_type": "markdown",
   "id": "29920fc0-0f3d-4641-9628-2c9b8689f4bd",
   "metadata": {},
   "source": [
    "## 2.Data"
   ]
  },
  {
   "cell_type": "markdown",
   "id": "7dba4abf-55b2-4134-9f45-0c5cbb71f19a",
   "metadata": {},
   "source": [
    "<p><dd><FONT size = 4.5> Besed on definition of our problem, factors that will influence out decision are:\n",
    "    <ol class=\"c\">\n",
    "        <li>Places of interest in the neighbourhood</li>\n",
    "        <li>number of and distance to Coffee shop and Café in the neighbourhood</li>\n",
    "        <li>distamce of neighbourhood from park</li>\n",
    "    </ol>\n",
    "<p><dd><FONT size = 4.5> We decided to use regularly spaced grid of location, cantered around city center, to define our neighbourhoods.<br> Following data sources will be needed to extract/generate the required information:\n",
    "    <ol class=\"c\">\n",
    "        <li>neighbourhood candidata areas will be generated algorithmically and approximate addresses of those areas will be obtained using data post code of toronto in <a href=\"https://en.wikipedia.org/wiki/List_of_postal_codes_of_Canada:_M\">wiki List of postal codes of Canada: M</a> and raw data latitudes, longitudes of post code from internet </li>\n",
    "        <li>number of Coffee shop and Café their type and location in every neighbourhood will be obtained using Foursquare API.</li>\n",
    "    </ol>\n",
    " "
   ]
  },
  {
   "cell_type": "markdown",
   "id": "5d1f3683-969d-45c8-bc24-8ab9feca6301",
   "metadata": {},
   "source": [
    "## 3.Methodology"
   ]
  },
  {
   "cell_type": "markdown",
   "id": "40f89d29-423f-446a-9340-1662c466d382",
   "metadata": {},
   "source": [
    "### Data Gathering"
   ]
  },
  {
   "cell_type": "markdown",
   "id": "2b4d84dc-11db-48e0-8703-d7006279652e",
   "metadata": {},
   "source": [
    "<p><dd><FONT size = 4.5> Grid of cells covering our area of interest around post code in toronto was created and displayed"
   ]
  },
  {
   "cell_type": "markdown",
   "id": "5e3b0acf-ae33-4993-92c5-c13f8e56b9d6",
   "metadata": {},
   "source": [
    "<figure>\n",
    "  <img src=\"Fig1.png\" alt=\"Map\" width=\"2000\" height=\"1000\"/>\n",
    "    <p><FONT size = 4.5><b>Fig1: radius around post code</b></p>\n",
    "</figure>"
   ]
  },
  {
   "cell_type": "markdown",
   "id": "2827771c-97d9-48db-aa4a-e5c296c1f96f",
   "metadata": {},
   "source": [
    "<p><dd><FONT size = 4.5> After the potential neighbourhood are captured, Coffee Shop and Cafe within 300m radius from the neighbourfood"
   ]
  },
  {
   "cell_type": "markdown",
   "id": "55e02e60-232a-436d-878e-a988f6014b8a",
   "metadata": {},
   "source": [
    "<figure>\n",
    "  <img src=\"Fig2.png\" alt=\"Map\" width=\"500\" height=\"500\"/>\n",
    "    <p><FONT size = 4.5><b>Fig2: Count coffee shop and Cafe around post code</b></p>\n",
    "</figure>"
   ]
  },
  {
   "cell_type": "markdown",
   "id": "21b47858-f415-405f-ada7-bf4655063ee8",
   "metadata": {},
   "source": [
    "<p><dd><FONT size = 4.5>ฺBased on problem statement, Sort and select neighbourhood that  less than 10 of Coffee shop and Café in the neighbourhood. and was created and displayed on folium Map"
   ]
  },
  {
   "cell_type": "markdown",
   "id": "84c3569f-2704-41d0-aea9-25b62ec003f5",
   "metadata": {},
   "source": [
    "<figure>\n",
    "  <img src=\"Fig3.png\" alt=\"Map\" width=\"2000\" height=\"1000\"/>\n",
    "    <p><FONT size = 4.5><b>Fig3: Neighborhood are fewer than 10 coffee shops and cafes</b></p>\n",
    "</figure>"
   ]
  },
  {
   "cell_type": "markdown",
   "id": "80fe7235-5f6a-4297-8056-879c8f243204",
   "metadata": {},
   "source": [
    "### K-means Clustering"
   ]
  },
  {
   "cell_type": "markdown",
   "id": "8d799650-7671-4aac-86a2-5cc2b172d802",
   "metadata": {},
   "source": [
    "<p><dd><FONT size = 4.5>ฺIn third and final step we will focus on most promising areas. We will be investigating the Places\n",
    "of Interest within the neighbourhood and form clusters (using k-means clustering) to identify\n",
    "general zones / neighborhoods / addresses which should be a starting point for final 'street\n",
    "level' exploration and search for optimal venue location by stakeholders"
   ]
  },
  {
   "cell_type": "markdown",
   "id": "4a96fa8b-61ce-46a4-a872-38f6158132ce",
   "metadata": {},
   "source": [
    "## 4. Results & Discussion"
   ]
  },
  {
   "cell_type": "markdown",
   "id": "7fe0b93f-05a6-4e8a-9c4a-d0191ac3ce71",
   "metadata": {},
   "source": [
    "<figure>\n",
    "  <img src=\"Fig4.png\" alt=\"Map\" width=\"500\" height=\"500\"/>\n",
    "    <p><FONT size = 4.5><b>Fig4: K-means K parameter Tuning</b></p>\n",
    "</figure>"
   ]
  },
  {
   "cell_type": "markdown",
   "id": "9552f990-aab4-40af-a691-300a8da43e3f",
   "metadata": {},
   "source": [
    "<figure>\n",
    "  <img src=\"Fig5.png\" alt=\"Map\" width=\"3000\" height=\"2000\"/>\n",
    "    <p><FONT size = 4.5><b>Fig4: K-means Clustering</b></p>\n",
    "</figure>"
   ]
  },
  {
   "cell_type": "markdown",
   "id": "f2db9d59-b533-4bde-b322-a31e989dd86b",
   "metadata": {},
   "source": [
    "## 5.Conclusion & Recommendation"
   ]
  },
  {
   "cell_type": "markdown",
   "id": "409ab4a3-fa36-4c75-a1e0-32619013f872",
   "metadata": {},
   "source": [
    "<p><dd><FONT size = 4.5>From above results, we highly recommend that the stake holder look into cluster 3 into\n",
    "detailed which contains park places common Venue,\n",
    "   \n"
   ]
  },
  {
   "cell_type": "code",
   "execution_count": null,
   "id": "2a97de92-2d7b-4fd7-bef7-0c2f3833370e",
   "metadata": {},
   "outputs": [],
   "source": []
  }
 ],
 "metadata": {
  "kernelspec": {
   "display_name": "Python 3",
   "language": "python",
   "name": "python3"
  },
  "language_info": {
   "codemirror_mode": {
    "name": "ipython",
    "version": 3
   },
   "file_extension": ".py",
   "mimetype": "text/x-python",
   "name": "python",
   "nbconvert_exporter": "python",
   "pygments_lexer": "ipython3",
   "version": "3.8.10"
  }
 },
 "nbformat": 4,
 "nbformat_minor": 5
}
