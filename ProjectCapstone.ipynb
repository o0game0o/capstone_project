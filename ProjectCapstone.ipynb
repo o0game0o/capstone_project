{
 "cells": [
  {
   "cell_type": "markdown",
   "id": "f71b319e-3aa1-425b-9ec6-b9e2b71f6d6a",
   "metadata": {},
   "source": [
    "# capstone project"
   ]
  },
  {
   "cell_type": "code",
   "execution_count": 1,
   "id": "e054f245-afc9-4520-abb7-19aa3318405a",
   "metadata": {},
   "outputs": [],
   "source": [
    "import pandas as pd\n",
    "import numpy as np"
   ]
  },
  {
   "cell_type": "code",
   "execution_count": 2,
   "id": "2b936631-cd79-41de-8799-cd613d5b113d",
   "metadata": {},
   "outputs": [
    {
     "name": "stdout",
     "output_type": "stream",
     "text": [
      "Hello Capstone Project Course\n"
     ]
    }
   ],
   "source": [
    "print(\"Hello Capstone Project Course\")"
   ]
  },
  {
   "cell_type": "code",
   "execution_count": null,
   "id": "0a499990-a3db-46f7-a65b-eb4cf92b4d58",
   "metadata": {},
   "outputs": [],
   "source": []
  }
 ],
 "metadata": {
  "kernelspec": {
   "display_name": "Python 3",
   "language": "python",
   "name": "python3"
  },
  "language_info": {
   "codemirror_mode": {
    "name": "ipython",
    "version": 3
   },
   "file_extension": ".py",
   "mimetype": "text/x-python",
   "name": "python",
   "nbconvert_exporter": "python",
   "pygments_lexer": "ipython3",
   "version": "3.8.10"
  }
 },
 "nbformat": 4,
 "nbformat_minor": 5
}
